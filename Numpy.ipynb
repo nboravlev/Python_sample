{
  "nbformat": 4,
  "nbformat_minor": 0,
  "metadata": {
    "colab": {
      "provenance": [],
      "authorship_tag": "ABX9TyPyHrW6s+rlvsqkLk0/0mbF"
    },
    "kernelspec": {
      "name": "python3",
      "display_name": "Python 3"
    },
    "language_info": {
      "name": "python"
    }
  },
  "cells": [
    {
      "cell_type": "code",
      "execution_count": null,
      "metadata": {
        "id": "CzVtgshrPKQ8"
      },
      "outputs": [],
      "source": [
        "import numpy as np"
      ]
    },
    {
      "cell_type": "code",
      "source": [
        "q = np.arange(8,-1,-1) #одномерный массив от 8 до -1 (правая граница не входит как мы помним) с шагом -1!\n",
        "q"
      ],
      "metadata": {
        "colab": {
          "base_uri": "https://localhost:8080/"
        },
        "id": "hMGhkMcqV94v",
        "outputId": "7da8d692-96a9-4242-940c-e907625a48d1"
      },
      "execution_count": null,
      "outputs": [
        {
          "output_type": "execute_result",
          "data": {
            "text/plain": [
              "array([8, 7, 6, 5, 4, 3, 2, 1, 0])"
            ]
          },
          "metadata": {},
          "execution_count": 2
        }
      ]
    },
    {
      "cell_type": "code",
      "source": [
        "#1\n",
        "\n",
        "n = int(input())\n",
        "\n",
        "x = np.arange(0,n)#создание одномерного массива от 0 до n\n",
        "rev_x = x[::-1]#разворот этого массива\n",
        "rev_x"
      ],
      "metadata": {
        "colab": {
          "base_uri": "https://localhost:8080/"
        },
        "id": "TyEMVoFNPRDI",
        "outputId": "3a450e35-d8cb-4c56-ced0-06cd216477a0"
      },
      "execution_count": null,
      "outputs": [
        {
          "name": "stdout",
          "output_type": "stream",
          "text": [
            "6\n"
          ]
        },
        {
          "output_type": "execute_result",
          "data": {
            "text/plain": [
              "array([5, 4, 3, 2, 1, 0])"
            ]
          },
          "metadata": {},
          "execution_count": 49
        }
      ]
    },
    {
      "cell_type": "code",
      "source": [
        "#2\n",
        "\n",
        "w = np.diag(rev_x, k=0) #метод DIAG либо извлекает к-тую диагональ из 2-мерного объекта, либо строит 2-мерный объект, располагая переданный в кач-ве аргумента одномерный по к-той диагонали\n",
        "w"
      ],
      "metadata": {
        "colab": {
          "base_uri": "https://localhost:8080/"
        },
        "id": "OBbGkMAHPRcC",
        "outputId": "a1344bcb-ecac-48ad-c8dd-e59bdc09df55"
      },
      "execution_count": null,
      "outputs": [
        {
          "output_type": "execute_result",
          "data": {
            "text/plain": [
              "array([[5, 0, 0, 0, 0, 0],\n",
              "       [0, 4, 0, 0, 0, 0],\n",
              "       [0, 0, 3, 0, 0, 0],\n",
              "       [0, 0, 0, 2, 0, 0],\n",
              "       [0, 0, 0, 0, 1, 0],\n",
              "       [0, 0, 0, 0, 0, 0]])"
            ]
          },
          "metadata": {},
          "execution_count": 63
        }
      ]
    },
    {
      "cell_type": "code",
      "source": [
        "np.trace(w,0) #возвращает ссумму значений по диагонали. Принимает много разных параметров, в частности, выбрать диагональ(по аналогии с к-той диагональю из примера выше, указывается просто через запятую после имени матрицы)"
      ],
      "metadata": {
        "colab": {
          "base_uri": "https://localhost:8080/"
        },
        "id": "3X9FLkUrF6T7",
        "outputId": "e821c8fa-d565-49cf-f270-2f5c50265082"
      },
      "execution_count": null,
      "outputs": [
        {
          "output_type": "execute_result",
          "data": {
            "text/plain": [
              "15"
            ]
          },
          "metadata": {},
          "execution_count": 65
        }
      ]
    },
    {
      "cell_type": "markdown",
      "source": [
        "#3\n",
        "\n",
        "4x + 2y + z = 4\n",
        "x + 3y = 12\n",
        "5y + 4z = -3"
      ],
      "metadata": {
        "id": "Mkm53eARPYSP"
      }
    },
    {
      "cell_type": "code",
      "source": [
        "a = np.array( [ [4, 2, 1], [1, 3, 0], [0, 5, 4] ] )#массив из  коэфф из левой"
      ],
      "metadata": {
        "id": "WrUHPEIoPRfV"
      },
      "execution_count": null,
      "outputs": []
    },
    {
      "cell_type": "code",
      "source": [
        "b = np.array( [4, 12, -3] )# массив из коэфф из правой"
      ],
      "metadata": {
        "id": "qb3oOTKrQBDr"
      },
      "execution_count": null,
      "outputs": []
    },
    {
      "cell_type": "code",
      "source": [
        "from numpy import linalg"
      ],
      "metadata": {
        "id": "A1OuU03eR0PA"
      },
      "execution_count": null,
      "outputs": []
    },
    {
      "cell_type": "code",
      "source": [
        "linalg.solve(a, b)#решение с помощью метода solve. Получаем x, y, z"
      ],
      "metadata": {
        "colab": {
          "base_uri": "https://localhost:8080/"
        },
        "id": "ZgaQiH8AR49i",
        "outputId": "ceebacaa-3b15-4b2e-dfeb-2cea066fdbd8"
      },
      "execution_count": null,
      "outputs": [
        {
          "output_type": "execute_result",
          "data": {
            "text/plain": [
              "array([ 0.46666667,  3.84444444, -5.55555556])"
            ]
          },
          "metadata": {},
          "execution_count": 9
        }
      ]
    },
    {
      "cell_type": "code",
      "source": [
        "np.allclose( np.dot(a, linalg.solve(a, b)), b )#проверка решения"
      ],
      "metadata": {
        "colab": {
          "base_uri": "https://localhost:8080/"
        },
        "id": "oNKLNOn4Shtm",
        "outputId": "2a8f168f-c5ea-4225-8571-fe5c505a1e9b"
      },
      "execution_count": null,
      "outputs": [
        {
          "output_type": "execute_result",
          "data": {
            "text/plain": [
              "True"
            ]
          },
          "metadata": {},
          "execution_count": 10
        }
      ]
    },
    {
      "cell_type": "code",
      "source": [
        "#4\n",
        "\n",
        "users_stats = np.array(\n",
        "    [\n",
        "        [2, 1, 0, 0, 0, 0],\n",
        "        [1, 1, 2, 1, 0, 0],\n",
        "        [2, 0, 1, 0, 0, 0],\n",
        "        [1, 1, 2, 1, 0, 1],\n",
        "        [0, 1, 2, 0, 0, 0],#редактировал строку\n",
        "        [0, 0, 0, 0, 0, 5],\n",
        "        [1, 0, 0, 0, 0, 0],\n",
        "        [0, 1, 1, 0, 0, 0],\n",
        "        [0, 0, 0, 1, 1, 3],\n",
        "        [1, 0, 0, 2, 1, 4]\n",
        "    ], \n",
        "    np.int32\n",
        ")"
      ],
      "metadata": {
        "id": "68rlI1GvuT1a"
      },
      "execution_count": null,
      "outputs": []
    },
    {
      "cell_type": "code",
      "source": [
        "next_user_stats = np.array([0, 1, 2, 0, 0, 0])"
      ],
      "metadata": {
        "id": "YpCStDgOueCQ"
      },
      "execution_count": null,
      "outputs": []
    },
    {
      "cell_type": "code",
      "source": [
        "def get_cosine(users_stats,next_user_stats):\n",
        "\n",
        "  nus_lenght = np.linalg.norm(next_user_stats)#длина вектора нового пользователя\n",
        "\n",
        "  cos_list = []\n",
        "\n",
        "  for i in users_stats:\n",
        "    i_lenght = np.linalg.norm(i)#вычисление длины вектора пользователя из матрицы в каждом проходе цикла\n",
        "    cos_list.append(np.dot(i, next_user_stats) / (i_lenght * nus_lenght))#также в каждом проходе цикла вычисление косинусного сходства \n",
        "    \n",
        "  return cos_list.index(max(cos_list))+1 #функция возвращает индекс максимального значения списка + 1, иначе они с 0 начинаются\n",
        "\n",
        "get_cosine(users_stats,next_user_stats)"
      ],
      "metadata": {
        "colab": {
          "base_uri": "https://localhost:8080/"
        },
        "id": "RW0YbZmyulMe",
        "outputId": "9bb5e6ff-3db2-4f51-914b-0478c9dd3bd1"
      },
      "execution_count": null,
      "outputs": [
        {
          "output_type": "execute_result",
          "data": {
            "text/plain": [
              "5"
            ]
          },
          "metadata": {},
          "execution_count": 16
        }
      ]
    },
    {
      "cell_type": "code",
      "source": [
        "def get_cosine_dict(users_stats,next_user_stats):#решение через ключи словаря\n",
        "\n",
        "  nus_lenght_dict = np.linalg.norm(next_user_stats)#отдельно посчитал длину вектора нового пользователя\n",
        "\n",
        "  cos_dict = {}#создание пустого словаря\n",
        "\n",
        "  for y, i in enumerate(users_stats):#цикл перебирает матрицу, плюс еще enumerate добавился\n",
        "    i_lenght = np.linalg.norm(i)#длина вектора на каждом этапе цикла\n",
        "    cos_dict[y+1] = (np.dot(i, next_user_stats) / (i_lenght * nus_lenght_dict))#создание словаря, где ключом становится значение enumrate(+1 чтобы с 0 не начинать), а значением косинусное сходство между новым вектором и вектром, который в текущюю итерацию цикла попал\n",
        "  return max(cos_dict, key=cos_dict.get)#возвращает ключ, который соответствует максимальному значению словаря. Для этого в функцию МАХ передаем дополнительный аргумент KEY\n",
        "\n",
        "get_cosine_dict(users_stats,next_user_stats)"
      ],
      "metadata": {
        "colab": {
          "base_uri": "https://localhost:8080/"
        },
        "id": "923Dah9Bu5Xb",
        "outputId": "917e7125-a73a-4910-fac9-55733324087a"
      },
      "execution_count": null,
      "outputs": [
        {
          "output_type": "execute_result",
          "data": {
            "text/plain": [
              "5"
            ]
          },
          "metadata": {},
          "execution_count": 66
        }
      ]
    }
  ]
}