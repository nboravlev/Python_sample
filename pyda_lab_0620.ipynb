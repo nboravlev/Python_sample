{
  "cells": [
    {
      "cell_type": "markdown",
      "metadata": {
        "id": "ubFlEy9c672x"
      },
      "source": [
        "## Лабораторная работа по курсу «Python для анализа данных»"
      ]
    },
    {
      "cell_type": "markdown",
      "metadata": {
        "id": "QrxqzC-l6725"
      },
      "source": [
        "### При выполнении работы допускается использование любых внешних модулей и пакетов."
      ]
    },
    {
      "cell_type": "markdown",
      "metadata": {
        "id": "CykuzEYa6726"
      },
      "source": [
        "#### Задача 1"
      ]
    },
    {
      "cell_type": "markdown",
      "metadata": {
        "id": "O-NhrN3M6726"
      },
      "source": [
        "Дана строка:"
      ]
    },
    {
      "cell_type": "code",
      "source": [
        "import re"
      ],
      "metadata": {
        "id": "g0yVE6-MczfQ"
      },
      "execution_count": null,
      "outputs": []
    },
    {
      "cell_type": "code",
      "execution_count": null,
      "metadata": {
        "id": "7JOtWm-w6727"
      },
      "outputs": [],
      "source": [
        "string_01 = \"History is always written by the winners. When two cultures clash, the loser is obliterated, and the winner writes the history books - books which glorify their own cause and disparage the conquered foe. As Napoleon once said, 'What is history, but a fable agreed upon?'\""
      ]
    },
    {
      "cell_type": "markdown",
      "metadata": {
        "id": "Qy5gR--O672-"
      },
      "source": [
        "1. Посчитайте, сколько в строке символов, исключая пробелы:"
      ]
    },
    {
      "cell_type": "code",
      "execution_count": null,
      "metadata": {
        "colab": {
          "base_uri": "https://localhost:8080/"
        },
        "id": "hjbLG5lT672_",
        "outputId": "c1ec5490-83ae-4931-82c5-be135a25285b"
      },
      "outputs": [
        {
          "output_type": "stream",
          "name": "stdout",
          "text": [
            "221\n"
          ]
        }
      ],
      "source": [
        "len_ = 0\n",
        "\n",
        "for a in string_01.split():#в цикле раздел строки на слова\n",
        "  a = a.strip('/n')#удаление пробелов\n",
        "  len_ += len(a)#тут мы по идее прибавляем к len_ длину каждого нового слова\n",
        "print(len_)"
      ]
    },
    {
      "cell_type": "code",
      "source": [
        "len(re.findall(r'\\w', string_01))#то же самое с помощью регулярных. Считаем цифры/буквы и еще что-ьо"
      ],
      "metadata": {
        "colab": {
          "base_uri": "https://localhost:8080/"
        },
        "id": "ichq5Z3qfWDm",
        "outputId": "24b4547b-c478-497a-fc59-0eca9752ee3b"
      },
      "execution_count": null,
      "outputs": [
        {
          "output_type": "execute_result",
          "data": {
            "text/plain": [
              "215"
            ]
          },
          "metadata": {},
          "execution_count": 11
        }
      ]
    },
    {
      "cell_type": "markdown",
      "metadata": {
        "id": "-JgL-fTs673A"
      },
      "source": [
        "2. Посчитайте, сколько в строке слов."
      ]
    },
    {
      "cell_type": "code",
      "execution_count": null,
      "metadata": {
        "colab": {
          "base_uri": "https://localhost:8080/"
        },
        "id": "M23tIq9o673B",
        "outputId": "7a7a8d26-343c-4c2d-aed5-3b08adbf437c"
      },
      "outputs": [
        {
          "output_type": "execute_result",
          "data": {
            "text/plain": [
              "45"
            ]
          },
          "metadata": {},
          "execution_count": 23
        }
      ],
      "source": [
        "len(string_01.replace('-','').split())#решение с помощбю приведения строки к списку по разделителю \"пробел\", реплэйс служит для замены ненужного тире на ничего"
      ]
    },
    {
      "cell_type": "code",
      "source": [
        "len(re.findall(r'\\w+\\b', string_01))# длина списка, который формируется из элементов, отвечающих условиям регулярки"
      ],
      "metadata": {
        "colab": {
          "base_uri": "https://localhost:8080/"
        },
        "id": "nT6FHwPKcleu",
        "outputId": "d45dcb52-eeb5-4b66-9d56-cdd40d534c88"
      },
      "execution_count": null,
      "outputs": [
        {
          "output_type": "execute_result",
          "data": {
            "text/plain": [
              "45"
            ]
          },
          "metadata": {},
          "execution_count": 183
        }
      ]
    },
    {
      "cell_type": "markdown",
      "metadata": {
        "id": "f3eyeON7673C"
      },
      "source": [
        "3. Напишите функцию, которая будет принимать в качестве аргумента букву и выводить все слова из строки, начинающиеся на эту букву (например, “w”)."
      ]
    },
    {
      "cell_type": "code",
      "execution_count": null,
      "metadata": {
        "colab": {
          "base_uri": "https://localhost:8080/"
        },
        "id": "9rCXMTeU673D",
        "outputId": "43cbf2c4-2a56-40e5-fb55-b589399af246"
      },
      "outputs": [
        {
          "output_type": "execute_result",
          "data": {
            "text/plain": [
              "['written', 'winners', 'When', 'winner', 'writes', 'which', 'What']"
            ]
          },
          "metadata": {},
          "execution_count": 16
        }
      ],
      "source": [
        "import re\n",
        "\n",
        "a = ('w')\n",
        "\n",
        "re.findall(r'\\b[w,W]\\w+', string_01)"
      ]
    },
    {
      "cell_type": "code",
      "source": [
        "q = input()\n",
        "\n",
        "def first_letter(q):\n",
        "  \n",
        "  a = re.findall(r'\\b' + q + r'\\w*', string_01, re.I)# с помощью функции re.escape(q) в регулярку вводится переменная(?) вообще нет, просто вводится черз конкатинацию. re.I = re.Ignorecase (flag)\n",
        "  return a\n",
        "\n",
        "first_letter(q)"
      ],
      "metadata": {
        "colab": {
          "base_uri": "https://localhost:8080/"
        },
        "id": "HTBBRqzGuE1w",
        "outputId": "ef999730-e3d3-40c0-91fb-8b7a960c7dbf"
      },
      "execution_count": null,
      "outputs": [
        {
          "name": "stdout",
          "output_type": "stream",
          "text": [
            "w\n"
          ]
        },
        {
          "output_type": "execute_result",
          "data": {
            "text/plain": [
              "['written', 'winners', 'When', 'winner', 'writes', 'which', 'What']"
            ]
          },
          "metadata": {},
          "execution_count": 15
        }
      ]
    },
    {
      "cell_type": "markdown",
      "metadata": {
        "id": "-o9awfvA673E"
      },
      "source": [
        "#### Задача 2"
      ]
    },
    {
      "cell_type": "markdown",
      "metadata": {
        "id": "MCuJNz6a673F"
      },
      "source": [
        "Напишите код, который будет генерировать случайную последовательность из 6 цифр, одна из которых должна быть 3. Позиция цифры 3 должна\n",
        "определяться случайным образом. Результат должен быть строкой. Например: \"456309\" или \"330127\"."
      ]
    },
    {
      "cell_type": "code",
      "source": [
        "import random #импорт библиотеки для генерации псевдо-случайных чисел"
      ],
      "metadata": {
        "id": "hFAwiYLtMpwt"
      },
      "execution_count": null,
      "outputs": []
    },
    {
      "cell_type": "code",
      "source": [
        "b = ['3']#назначение списка со значением 3 (согласно условию последовательность должна содержать 3)\n",
        "\n",
        "while len(b) < 6:# пока длина списка меньше 6 выполняется цикл, те длина цикла = 5, цикл выполняется, длина становится 6 и цикл останавливается\n",
        "  a = str(random.randint(0,9))#создается переменная а, значение которой случайно в диапазоне от 0 до 9 и приведение к типу данных \"строка\"\n",
        "  b.append(a)#добавение каждого нового а в конец списка б\n",
        "\n",
        "random.shuffle(b)#приведение к типу данных строка нужно, потому что функция шаффл работает с элементами списка в типе данных \"строка\"(?)\n",
        "print(''.join(b))#в выводе b приводится к типу данных \"строка\", согласно задания"
      ],
      "metadata": {
        "colab": {
          "base_uri": "https://localhost:8080/"
        },
        "id": "PqcHEfCmQEfr",
        "outputId": "6c4bcc92-965b-4c62-846f-fc1d29d205c8"
      },
      "execution_count": null,
      "outputs": [
        {
          "output_type": "stream",
          "name": "stdout",
          "text": [
            "675437\n"
          ]
        }
      ]
    },
    {
      "cell_type": "markdown",
      "metadata": {
        "id": "jO9psM1N673G"
      },
      "source": [
        "#### Задача 3"
      ]
    },
    {
      "cell_type": "markdown",
      "metadata": {
        "id": "5PuOhitg673H"
      },
      "source": [
        "Дан список:"
      ]
    },
    {
      "cell_type": "code",
      "execution_count": null,
      "metadata": {
        "id": "mvWTX__d673I"
      },
      "outputs": [],
      "source": [
        "list_01 = [1, 1, 2, 3, 5, 8, 13, 21, 34, 55, 89, 144, 233, 377, 610, 14, 46, 273, 22, 99, 15, 1000]"
      ]
    },
    {
      "cell_type": "markdown",
      "metadata": {
        "id": "uP5j06jx673I"
      },
      "source": [
        "Напишите алгоритм, который выводит число, равное сумме элементов списка, которые больше 10, но меньше 100, и которые больше 200, но меньше 500."
      ]
    },
    {
      "cell_type": "code",
      "execution_count": null,
      "metadata": {
        "colab": {
          "base_uri": "https://localhost:8080/"
        },
        "id": "FpoJTBO8673J",
        "outputId": "9ff92240-a39d-49d1-c0ff-71cfcf016642"
      },
      "outputs": [
        {
          "output_type": "stream",
          "name": "stdout",
          "text": [
            "408\n",
            "883\n"
          ]
        }
      ],
      "source": [
        "sum_element_1 = []\n",
        "sum_element_2 = []\n",
        "\n",
        "for el in list_01:\n",
        "  if 10 < el < 100:\n",
        "    sum_element_1.append(el)\n",
        "  elif 200 < el < 500:\n",
        "    sum_element_2.append(el)\n",
        "\n",
        "print(sum(sum_element_1))\n",
        "print(sum(sum_element_2))"
      ]
    },
    {
      "cell_type": "code",
      "source": [
        "#решение из разбора\n",
        "\n",
        "sum(x for x in list_01 if 10 < x < 100 or 200 < x < 500)"
      ],
      "metadata": {
        "colab": {
          "base_uri": "https://localhost:8080/"
        },
        "id": "Sif10PM0Vz-q",
        "outputId": "7551eb5d-d76d-42f7-edea-35de72274bab"
      },
      "execution_count": null,
      "outputs": [
        {
          "output_type": "execute_result",
          "data": {
            "text/plain": [
              "1291"
            ]
          },
          "metadata": {},
          "execution_count": 34
        }
      ]
    },
    {
      "cell_type": "markdown",
      "metadata": {
        "id": "ZFLmscdr673J"
      },
      "source": [
        "#### Задача 4"
      ]
    },
    {
      "cell_type": "markdown",
      "metadata": {
        "id": "t-huczNg673K"
      },
      "source": [
        "Данные студентов представлены в виде списка списков:"
      ]
    },
    {
      "cell_type": "code",
      "execution_count": null,
      "metadata": {
        "id": "Fi08ghkk673K"
      },
      "outputs": [],
      "source": [
        "students = [\n",
        "[\"0001\", \"Антонов\", \"Антон\", \"Игоревич\", \"20.08.2009\",\"БСТ161\"],\n",
        "[\"1102\", \"Богов\", \"Артем\", \"Игоревич\", \"25.01.2010\",\"БСТ162\"],\n",
        "[\"0333\", \"Глаголева\", \"Анастасия\", \"Николаевна\", \"11.07.2009\", \"БСТ163\"],\n",
        "[\"4004\", \"Степанова\", \"Наталья\", \"Александровна\", \"13.02.2008\", \"БСТ161\"],\n",
        "[\"0045\", \"Боков\", \"Игорь\", \"Харитонович\", \"02.06.2009\", \"БСТ161\"],\n",
        "[\"0096\", \"Васильков\", \"Валентин\", \"Сергеевич\", \"20.03.2009\", \"БСТ164\"],\n",
        "[\"0607\", \"Сиропова\", \"Виолетта\", \"Эдуардовна\", \"28.05.2010\", \"БСТ162\"]\n",
        "    ]"
      ]
    },
    {
      "cell_type": "markdown",
      "metadata": {
        "id": "eJijDD84673L"
      },
      "source": [
        "1. Преобразуйте данные таким образом, чтобы они были представлены в виде словаря, в котором ключами являются номера студентов, а значениями — список из других данных о студентах."
      ]
    },
    {
      "cell_type": "code",
      "execution_count": null,
      "metadata": {
        "colab": {
          "base_uri": "https://localhost:8080/"
        },
        "id": "R5i0Te_0673L",
        "outputId": "47018868-e190-42e6-b5f0-162623c9dfa2"
      },
      "outputs": [
        {
          "output_type": "execute_result",
          "data": {
            "text/plain": [
              "{'0001': ['Антонов', 'Антон', 'Игоревич', '20.08.2009', 'БСТ161'],\n",
              " '1102': ['Богов', 'Артем', 'Игоревич', '25.01.2010', 'БСТ162'],\n",
              " '0333': ['Глаголева', 'Анастасия', 'Николаевна', '11.07.2009', 'БСТ163'],\n",
              " '4004': ['Степанова', 'Наталья', 'Александровна', '13.02.2008', 'БСТ161'],\n",
              " '0045': ['Боков', 'Игорь', 'Харитонович', '02.06.2009', 'БСТ161'],\n",
              " '0096': ['Васильков', 'Валентин', 'Сергеевич', '20.03.2009', 'БСТ164'],\n",
              " '0607': ['Сиропова', 'Виолетта', 'Эдуардовна', '28.05.2010', 'БСТ162']}"
            ]
          },
          "metadata": {},
          "execution_count": 36
        }
      ],
      "source": [
        "stud_dict = {}\n",
        "\n",
        "for student in students:\n",
        "  stud_dict[student[0]] = (student[1:])\n",
        "\n",
        "stud_dict"
      ]
    },
    {
      "cell_type": "markdown",
      "metadata": {
        "id": "_SuY-Y84673L"
      },
      "source": [
        "2. Напишите функцию, которая принимает в качестве аргумента номер студента и новый номер группы и позволяет изменить номер группы этого студента на новый внутри созданного словаря."
      ]
    },
    {
      "cell_type": "code",
      "execution_count": null,
      "metadata": {
        "colab": {
          "base_uri": "https://localhost:8080/"
        },
        "id": "3_Tq2d0N673L",
        "outputId": "85e313cb-3220-4af6-bc4f-576126a35f47"
      },
      "outputs": [
        {
          "name": "stdout",
          "output_type": "stream",
          "text": [
            "0001\n",
            "БСТ162\n"
          ]
        },
        {
          "output_type": "execute_result",
          "data": {
            "text/plain": [
              "{'0001': ['Антонов', 'Антон', 'Игоревич', '20.08.2009', 'БСТ162'],\n",
              " '1102': ['Богов', 'Артем', 'Игоревич', '25.01.2010', 'БСТ162'],\n",
              " '0333': ['Глаголева', 'Анастасия', 'Николаевна', '11.07.2009', 'БСТ163'],\n",
              " '4004': ['Степанова', 'Наталья', 'Александровна', '13.02.2008', 'БСТ161'],\n",
              " '0045': ['Боков', 'Игорь', 'Харитонович', '02.06.2009', 'БСТ161'],\n",
              " '0096': ['Васильков', 'Валентин', 'Сергеевич', '20.03.2009', 'БСТ164'],\n",
              " '0607': ['Сиропова', 'Виолетта', 'Эдуардовна', '28.05.2010', 'БСТ162']}"
            ]
          },
          "metadata": {},
          "execution_count": 136
        }
      ],
      "source": [
        "def change_group_num(num_stud, num_group):\n",
        "  \n",
        "  num_stud = input()\n",
        "  num_group = input()\n",
        "  for key,value in stud_dict.items():\n",
        "    if key == str(num_stud):#если в инпут вводить цифры, то формат будет int, для корректного сравнения нужно приводить\n",
        "      value[-1] = num_group\n",
        "      return stud_dict\n",
        "    else:\n",
        "      return 'ошибка'\n",
        "\n",
        "change_group_num(a,b)\n",
        "\n"
      ]
    },
    {
      "cell_type": "code",
      "source": [
        "#решение из лабораторки\n",
        "\n",
        "st_numb = input()\n",
        "gr_numb = input()\n",
        "\n",
        "def replace_student(st_numb,gr_numb):\n",
        "  stud_dict[st_numb][-1] = gr_numb.upper()# тут безо всякого перебора просто доступ по индексу, меняется значение на другое\n",
        "  return stud_dict\n",
        "\n",
        "replace_student(st_numb,gr_numb)"
      ],
      "metadata": {
        "colab": {
          "base_uri": "https://localhost:8080/"
        },
        "id": "jx-VLgmxYg6e",
        "outputId": "84af517f-9fb6-4b54-b05d-1209bcfe6b21"
      },
      "execution_count": null,
      "outputs": [
        {
          "name": "stdout",
          "output_type": "stream",
          "text": [
            "0333\n",
            "Бст161\n"
          ]
        },
        {
          "output_type": "execute_result",
          "data": {
            "text/plain": [
              "{'0001': ['Антонов', 'Антон', 'Игоревич', '20.08.2009', 'БСТ161'],\n",
              " '1102': ['Богов', 'Артем', 'Игоревич', '25.01.2010', 'БСТ162'],\n",
              " '0333': ['Глаголева', 'Анастасия', 'Николаевна', '11.07.2009', 'БСТ161'],\n",
              " '4004': ['Степанова', 'Наталья', 'Александровна', '13.02.2008', 'БСТ161'],\n",
              " '0045': ['Боков', 'Игорь', 'Харитонович', '02.06.2009', 'БСТ161'],\n",
              " '0096': ['Васильков', 'Валентин', 'Сергеевич', '20.03.2009', 'БСТ164'],\n",
              " '0607': ['Сиропова', 'Виолетта', 'Эдуардовна', '28.05.2010', 'БСТ162']}"
            ]
          },
          "metadata": {},
          "execution_count": 40
        }
      ]
    },
    {
      "cell_type": "markdown",
      "metadata": {
        "id": "7nSOKhNh673M"
      },
      "source": [
        "3. Напишите функцию, которая принимает номер группы и выводит список (фамилии, имена, отчества) всех студентов этой группы. Необходимо обращаться к словарю."
      ]
    },
    {
      "cell_type": "code",
      "execution_count": null,
      "metadata": {
        "colab": {
          "base_uri": "https://localhost:8080/"
        },
        "id": "8nRWedlN673M",
        "outputId": "b82f0bd7-27b1-42e2-b468-3b743e43524c"
      },
      "outputs": [
        {
          "output_type": "stream",
          "name": "stdout",
          "text": [
            "бст161\n",
            "['Антонов', 'Антон', 'Игоревич']\n",
            "['Глаголева', 'Анастасия', 'Николаевна']\n",
            "['Степанова', 'Наталья', 'Александровна']\n",
            "['Боков', 'Игорь', 'Харитонович']\n"
          ]
        }
      ],
      "source": [
        "def students_list():\n",
        "  group_number = input()\n",
        "  \n",
        "  for value in stud_dict.values():\n",
        "    if value[-1] == group_number.upper():#формат вэлью всегда строка, также если в инпут вводим буквы, то тоже получится строка, ничего дополнительно приводить не нужно\n",
        "      print(value[0:3])\n",
        "\n",
        "students_list()"
      ]
    },
    {
      "cell_type": "markdown",
      "metadata": {
        "id": "W19_IWYC673M"
      },
      "source": [
        "#### Задача 5"
      ]
    },
    {
      "cell_type": "markdown",
      "metadata": {
        "id": "dZeI8aq7673M"
      },
      "source": [
        "Дана матрица:"
      ]
    },
    {
      "cell_type": "code",
      "execution_count": null,
      "metadata": {
        "id": "3Wc7vCp_673N"
      },
      "outputs": [],
      "source": [
        "matrix = [ \n",
        "    [0,1,2,4,8], \n",
        "    [6,2,2,1,9], \n",
        "    [3,3,3,3,3], \n",
        "    [4,6,7,1,2], \n",
        "    [5,7,3,4,0] \n",
        "]"
      ]
    },
    {
      "cell_type": "markdown",
      "metadata": {
        "id": "Ol5WJm-q673O"
      },
      "source": [
        "1. Выведите результат сложения всех элементов матрицы."
      ]
    },
    {
      "cell_type": "code",
      "execution_count": null,
      "metadata": {
        "colab": {
          "base_uri": "https://localhost:8080/"
        },
        "id": "eSTPL12J673O",
        "outputId": "7edf6eb7-6103-418d-f521-3f2a7aa561d8"
      },
      "outputs": [
        {
          "output_type": "execute_result",
          "data": {
            "text/plain": [
              "89"
            ]
          },
          "metadata": {},
          "execution_count": 153
        }
      ],
      "source": [
        "sum(sum(x) for x in matrix)#list comprehention! х это вложенный элемент списка matrix, сразу же берется сумма этих элементов, и еще берется общая сумма всех этих сумм"
      ]
    },
    {
      "cell_type": "markdown",
      "metadata": {
        "id": "gRbLofOt673P"
      },
      "source": [
        "2. Напишите алгоритм вычисления максимума из сумм элементов каждого столбца."
      ]
    },
    {
      "cell_type": "code",
      "source": [
        "max(sum(a) for a in zip(*matrix))#list comprehention!! zip(*matrix)) с помощью *args происходит разборка списка matrix, затем с помощью команды zip происходит вертикальное объединение, таким образом образуется список кортежей. В первой части компрехеншн вычисляем сумму элементов этих ортежей, а в самом конце с помощью МАХ выводим максимальное значение этих сумм\n",
        "  \n",
        "  "
      ],
      "metadata": {
        "colab": {
          "base_uri": "https://localhost:8080/"
        },
        "id": "94ghncz0CiHZ",
        "outputId": "09b34a1b-6383-4741-ef3c-ed1ef29eb717"
      },
      "execution_count": null,
      "outputs": [
        {
          "output_type": "execute_result",
          "data": {
            "text/plain": [
              "22"
            ]
          },
          "metadata": {},
          "execution_count": 179
        }
      ]
    }
  ],
  "metadata": {
    "kernelspec": {
      "display_name": "Python 3",
      "language": "python",
      "name": "python3"
    },
    "language_info": {
      "codemirror_mode": {
        "name": "ipython",
        "version": 3
      },
      "file_extension": ".py",
      "mimetype": "text/x-python",
      "name": "python",
      "nbconvert_exporter": "python",
      "pygments_lexer": "ipython3",
      "version": "3.7.0"
    },
    "colab": {
      "provenance": []
    }
  },
  "nbformat": 4,
  "nbformat_minor": 0
}